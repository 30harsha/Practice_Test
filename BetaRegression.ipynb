{
 "cells": [
  {
   "cell_type": "code",
   "execution_count": 1,
   "id": "fdbc243c",
   "metadata": {
    "ExecuteTime": {
     "end_time": "2023-05-05T08:16:57.195849Z",
     "start_time": "2023-05-05T08:16:50.322300Z"
    },
    "scrolled": false
   },
   "outputs": [
    {
     "name": "stderr",
     "output_type": "stream",
     "text": [
      "C:\\Users\\harsh\\AppData\\Roaming\\Python\\Python39\\site-packages\\statsmodels\\compat\\pandas.py:65: FutureWarning: pandas.Int64Index is deprecated and will be removed from pandas in a future version. Use pandas.Index with the appropriate dtype instead.\n",
      "  from pandas import Int64Index as NumericIndex\n"
     ]
    }
   ],
   "source": [
    "import numpy as np\n",
    "import pandas as pd\n",
    "import statsmodels.api as sm\n",
    "from scipy.special import gammaln as lgamma\n",
    "from statsmodels.base.model import GenericLikelihoodModel\n",
    "from statsmodels.othermod.betareg import BetaModel"
   ]
  },
  {
   "cell_type": "code",
   "execution_count": 2,
   "id": "ae16953f",
   "metadata": {
    "ExecuteTime": {
     "end_time": "2023-05-05T08:17:13.150023Z",
     "start_time": "2023-05-05T08:17:13.131358Z"
    }
   },
   "outputs": [],
   "source": [
    "from statsmodels.genmod.families.links import identity\n",
    "import patsy\n",
    "from statsmodels.genmod.families.links import Logit\n",
    "from statsmodels.genmod.families.links import Log\n",
    "from statsmodels.genmod.families.links import sqrt\n",
    "from statsmodels.genmod.families.links import cloglog\n",
    "from statsmodels.genmod.families.links import probit\n",
    "import statsmodels"
   ]
  },
  {
   "cell_type": "code",
   "execution_count": 3,
   "id": "59dabfde",
   "metadata": {
    "ExecuteTime": {
     "end_time": "2023-05-05T08:17:15.983753Z",
     "start_time": "2023-05-05T08:17:14.601240Z"
    }
   },
   "outputs": [
    {
     "data": {
      "text/html": [
       "<div>\n",
       "<style scoped>\n",
       "    .dataframe tbody tr th:only-of-type {\n",
       "        vertical-align: middle;\n",
       "    }\n",
       "\n",
       "    .dataframe tbody tr th {\n",
       "        vertical-align: top;\n",
       "    }\n",
       "\n",
       "    .dataframe thead th {\n",
       "        text-align: right;\n",
       "    }\n",
       "</style>\n",
       "<table border=\"1\" class=\"dataframe\">\n",
       "  <thead>\n",
       "    <tr style=\"text-align: right;\">\n",
       "      <th></th>\n",
       "      <th>food</th>\n",
       "      <th>income</th>\n",
       "      <th>persons</th>\n",
       "      <th>y</th>\n",
       "    </tr>\n",
       "  </thead>\n",
       "  <tbody>\n",
       "    <tr>\n",
       "      <th>0</th>\n",
       "      <td>15.998</td>\n",
       "      <td>62.476</td>\n",
       "      <td>1</td>\n",
       "      <td>0.256066</td>\n",
       "    </tr>\n",
       "    <tr>\n",
       "      <th>1</th>\n",
       "      <td>16.652</td>\n",
       "      <td>82.304</td>\n",
       "      <td>5</td>\n",
       "      <td>0.202323</td>\n",
       "    </tr>\n",
       "    <tr>\n",
       "      <th>2</th>\n",
       "      <td>21.741</td>\n",
       "      <td>74.679</td>\n",
       "      <td>3</td>\n",
       "      <td>0.291126</td>\n",
       "    </tr>\n",
       "    <tr>\n",
       "      <th>3</th>\n",
       "      <td>7.431</td>\n",
       "      <td>39.151</td>\n",
       "      <td>3</td>\n",
       "      <td>0.189804</td>\n",
       "    </tr>\n",
       "    <tr>\n",
       "      <th>4</th>\n",
       "      <td>10.481</td>\n",
       "      <td>64.724</td>\n",
       "      <td>5</td>\n",
       "      <td>0.161934</td>\n",
       "    </tr>\n",
       "  </tbody>\n",
       "</table>\n",
       "</div>"
      ],
      "text/plain": [
       "     food  income  persons         y\n",
       "0  15.998  62.476        1  0.256066\n",
       "1  16.652  82.304        5  0.202323\n",
       "2  21.741  74.679        3  0.291126\n",
       "3   7.431  39.151        3  0.189804\n",
       "4  10.481  64.724        5  0.161934"
      ]
     },
     "execution_count": 3,
     "metadata": {},
     "output_type": "execute_result"
    }
   ],
   "source": [
    "data=pd.read_excel(r\"C:\\Users\\harsh\\Downloads\\Food-income data.xlsx\")\n",
    "data.head()"
   ]
  },
  {
   "cell_type": "code",
   "execution_count": 51,
   "id": "b270bb47",
   "metadata": {
    "ExecuteTime": {
     "end_time": "2023-05-05T10:02:40.987547Z",
     "start_time": "2023-05-05T10:02:40.817961Z"
    }
   },
   "outputs": [],
   "source": [
    "#Generic function with exog_precision with out mentioning formula\n",
    "link=[\"Logit\",\"probit\",\"clogLog\"]\n",
    "link_precision=[\"Log\",\"identity\",\"sqrt\"]\n",
    "def betaRegression(endog,exog,exog_precision,link,link_precision):\n",
    "    temp=None\n",
    "    temp1=None\n",
    "    for k in link:\n",
    "        if k == \"Logit\":\n",
    "            temp=sm.families.links.Logit()\n",
    "        elif k==\"probit\":\n",
    "            temp=sm.families.links.probit()\n",
    "        elif k==\"clogLog\":\n",
    "            temp=sm.families.links.clogLog()\n",
    "    for l in link_precision:\n",
    "        if l==\"Log\":\n",
    "            temp1=sm.families.links.Log()\n",
    "        elif l==\"identity\":\n",
    "            temp1=sm.families.links.identity()\n",
    "        elif l==\"sqrt\":\n",
    "            temp1=sm.families.links.sqrt()\n",
    "    if exog_precision is None:\n",
    "        mod = BetaModel(endog, exog, exog_precision, link=temp, link_precision=temp1)\n",
    "        rslt = mod.fit()\n",
    "    else:\n",
    "        mod = BetaModel(endog,exog,exog_precision=pd.DataFrame(exog_precision),link=temp, link_precision=temp1)\n",
    "        rslt = mod.fit()\n",
    "    return rslt.summary()"
   ]
  },
  {
   "cell_type": "code",
   "execution_count": 52,
   "id": "4aff8571",
   "metadata": {
    "ExecuteTime": {
     "end_time": "2023-05-05T10:02:51.627814Z",
     "start_time": "2023-05-05T10:02:51.584242Z"
    }
   },
   "outputs": [],
   "source": [
    "x=data[['income','persons']]\n",
    "y=data[['y']]\n",
    "link=[\"probit\"]\n",
    "link_precision=[\"sqrt\"]\n",
    "exog_precision=data['income']"
   ]
  },
  {
   "cell_type": "code",
   "execution_count": 53,
   "id": "5b5f4488",
   "metadata": {
    "ExecuteTime": {
     "end_time": "2023-05-05T10:02:52.788872Z",
     "start_time": "2023-05-05T10:02:52.520017Z"
    },
    "scrolled": false
   },
   "outputs": [
    {
     "name": "stderr",
     "output_type": "stream",
     "text": [
      "C:\\Users\\harsh\\AppData\\Roaming\\Python\\Python39\\site-packages\\statsmodels\\base\\model.py:2694: UserWarning: df_model + k_constant differs from nparams\n",
      "  warnings.warn(\"df_model + k_constant differs from nparams\")\n"
     ]
    },
    {
     "data": {
      "text/html": [
       "<table class=\"simpletable\">\n",
       "<caption>BetaModel Results</caption>\n",
       "<tr>\n",
       "  <th>Dep. Variable:</th>             <td>y</td>         <th>  Log-Likelihood:    </th> <td>  39.661</td>\n",
       "</tr>\n",
       "<tr>\n",
       "  <th>Model:</th>                 <td>BetaModel</td>     <th>  AIC:               </th> <td>  -75.32</td>\n",
       "</tr>\n",
       "<tr>\n",
       "  <th>Method:</th>           <td>Maximum Likelihood</td> <th>  BIC:               </th> <td>  -72.05</td>\n",
       "</tr>\n",
       "<tr>\n",
       "  <th>Date:</th>              <td>Fri, 05 May 2023</td>  <th>                     </th>     <td> </td>   \n",
       "</tr>\n",
       "<tr>\n",
       "  <th>Time:</th>                  <td>15:32:52</td>      <th>                     </th>     <td> </td>   \n",
       "</tr>\n",
       "<tr>\n",
       "  <th>No. Observations:</th>       <td>    38</td>       <th>                     </th>     <td> </td>   \n",
       "</tr>\n",
       "<tr>\n",
       "  <th>Df Residuals:</th>           <td>    35</td>       <th>                     </th>     <td> </td>   \n",
       "</tr>\n",
       "<tr>\n",
       "  <th>Df Model:</th>               <td>     2</td>       <th>                     </th>     <td> </td>   \n",
       "</tr>\n",
       "</table>\n",
       "<table class=\"simpletable\">\n",
       "<tr>\n",
       "          <td></td>            <th>coef</th>     <th>std err</th>      <th>z</th>      <th>P>|z|</th>  <th>[0.025</th>    <th>0.975]</th>  \n",
       "</tr>\n",
       "<tr>\n",
       "  <th>income</th>           <td>   -0.0100</td> <td>    0.001</td> <td>   -9.152</td> <td> 0.000</td> <td>   -0.012</td> <td>   -0.008</td>\n",
       "</tr>\n",
       "<tr>\n",
       "  <th>persons</th>          <td>    0.0204</td> <td>    0.019</td> <td>    1.048</td> <td> 0.295</td> <td>   -0.018</td> <td>    0.058</td>\n",
       "</tr>\n",
       "<tr>\n",
       "  <th>precision-income</th> <td>    0.0932</td> <td>    0.010</td> <td>    8.923</td> <td> 0.000</td> <td>    0.073</td> <td>    0.114</td>\n",
       "</tr>\n",
       "</table>"
      ],
      "text/plain": [
       "<class 'statsmodels.iolib.summary.Summary'>\n",
       "\"\"\"\n",
       "                              BetaModel Results                               \n",
       "==============================================================================\n",
       "Dep. Variable:                      y   Log-Likelihood:                 39.661\n",
       "Model:                      BetaModel   AIC:                            -75.32\n",
       "Method:            Maximum Likelihood   BIC:                            -72.05\n",
       "Date:                Fri, 05 May 2023                                         \n",
       "Time:                        15:32:52                                         \n",
       "No. Observations:                  38                                         \n",
       "Df Residuals:                      35                                         \n",
       "Df Model:                           2                                         \n",
       "====================================================================================\n",
       "                       coef    std err          z      P>|z|      [0.025      0.975]\n",
       "------------------------------------------------------------------------------------\n",
       "income              -0.0100      0.001     -9.152      0.000      -0.012      -0.008\n",
       "persons              0.0204      0.019      1.048      0.295      -0.018       0.058\n",
       "precision-income     0.0932      0.010      8.923      0.000       0.073       0.114\n",
       "====================================================================================\n",
       "\"\"\""
      ]
     },
     "execution_count": 53,
     "metadata": {},
     "output_type": "execute_result"
    }
   ],
   "source": [
    "betaRegression(y,x,exog_precision,link,link_precision)"
   ]
  },
  {
   "cell_type": "code",
   "execution_count": 54,
   "id": "c4d5e6fd",
   "metadata": {
    "ExecuteTime": {
     "end_time": "2023-05-05T10:02:58.864956Z",
     "start_time": "2023-05-05T10:02:58.758739Z"
    },
    "scrolled": false
   },
   "outputs": [
    {
     "name": "stderr",
     "output_type": "stream",
     "text": [
      "C:\\Users\\harsh\\AppData\\Roaming\\Python\\Python39\\site-packages\\statsmodels\\base\\model.py:2694: UserWarning: df_model + k_constant differs from nparams\n",
      "  warnings.warn(\"df_model + k_constant differs from nparams\")\n"
     ]
    },
    {
     "data": {
      "text/html": [
       "<table class=\"simpletable\">\n",
       "<caption>BetaModel Results</caption>\n",
       "<tr>\n",
       "  <th>Dep. Variable:</th>             <td>y</td>         <th>  Log-Likelihood:    </th> <td>  41.287</td>\n",
       "</tr>\n",
       "<tr>\n",
       "  <th>Model:</th>                 <td>BetaModel</td>     <th>  AIC:               </th> <td>  -78.57</td>\n",
       "</tr>\n",
       "<tr>\n",
       "  <th>Method:</th>           <td>Maximum Likelihood</td> <th>  BIC:               </th> <td>  -75.30</td>\n",
       "</tr>\n",
       "<tr>\n",
       "  <th>Date:</th>              <td>Fri, 05 May 2023</td>  <th>                     </th>     <td> </td>   \n",
       "</tr>\n",
       "<tr>\n",
       "  <th>Time:</th>                  <td>15:32:58</td>      <th>                     </th>     <td> </td>   \n",
       "</tr>\n",
       "<tr>\n",
       "  <th>No. Observations:</th>       <td>    38</td>       <th>                     </th>     <td> </td>   \n",
       "</tr>\n",
       "<tr>\n",
       "  <th>Df Residuals:</th>           <td>    35</td>       <th>                     </th>     <td> </td>   \n",
       "</tr>\n",
       "<tr>\n",
       "  <th>Df Model:</th>               <td>     2</td>       <th>                     </th>     <td> </td>   \n",
       "</tr>\n",
       "</table>\n",
       "<table class=\"simpletable\">\n",
       "<tr>\n",
       "      <td></td>         <th>coef</th>     <th>std err</th>      <th>z</th>      <th>P>|z|</th>  <th>[0.025</th>    <th>0.975]</th>  \n",
       "</tr>\n",
       "<tr>\n",
       "  <th>income</th>    <td>   -0.0113</td> <td>    0.001</td> <td>   -8.618</td> <td> 0.000</td> <td>   -0.014</td> <td>   -0.009</td>\n",
       "</tr>\n",
       "<tr>\n",
       "  <th>persons</th>   <td>    0.0340</td> <td>    0.019</td> <td>    1.748</td> <td> 0.080</td> <td>   -0.004</td> <td>    0.072</td>\n",
       "</tr>\n",
       "<tr>\n",
       "  <th>precision</th> <td>    5.3669</td> <td>    0.608</td> <td>    8.833</td> <td> 0.000</td> <td>    4.176</td> <td>    6.558</td>\n",
       "</tr>\n",
       "</table>"
      ],
      "text/plain": [
       "<class 'statsmodels.iolib.summary.Summary'>\n",
       "\"\"\"\n",
       "                              BetaModel Results                               \n",
       "==============================================================================\n",
       "Dep. Variable:                      y   Log-Likelihood:                 41.287\n",
       "Model:                      BetaModel   AIC:                            -78.57\n",
       "Method:            Maximum Likelihood   BIC:                            -75.30\n",
       "Date:                Fri, 05 May 2023                                         \n",
       "Time:                        15:32:58                                         \n",
       "No. Observations:                  38                                         \n",
       "Df Residuals:                      35                                         \n",
       "Df Model:                           2                                         \n",
       "==============================================================================\n",
       "                 coef    std err          z      P>|z|      [0.025      0.975]\n",
       "------------------------------------------------------------------------------\n",
       "income        -0.0113      0.001     -8.618      0.000      -0.014      -0.009\n",
       "persons        0.0340      0.019      1.748      0.080      -0.004       0.072\n",
       "precision      5.3669      0.608      8.833      0.000       4.176       6.558\n",
       "==============================================================================\n",
       "\"\"\""
      ]
     },
     "execution_count": 54,
     "metadata": {},
     "output_type": "execute_result"
    }
   ],
   "source": [
    "betaRegression(y,x,None,link,link_precision)"
   ]
  },
  {
   "cell_type": "code",
   "execution_count": null,
   "id": "3ebfc95c",
   "metadata": {},
   "outputs": [],
   "source": []
  },
  {
   "cell_type": "code",
   "execution_count": null,
   "id": "9c5ad061",
   "metadata": {},
   "outputs": [],
   "source": [
    "#Generic function with exog_precision with mentioning formula\n",
    "link=[\"Logit\",\"probit\",\"clogLog\"]\n",
    "link_precision=[\"Log\",\"identity\",\"sqrt\"]\n",
    "def betaRegression(endog,exog,exog_precision,link,link_precision):\n",
    "    temp=None\n",
    "    temp1=None\n",
    "    for k in link:\n",
    "        if k == \"Logit\":\n",
    "            temp=sm.families.links.Logit()\n",
    "        elif k==\"probit\":\n",
    "            temp=sm.families.links.probit()\n",
    "        elif k==\"clogLog\":\n",
    "            temp=sm.families.links.clogLog()\n",
    "    for l in link_precision:\n",
    "        if l==\"Log\":\n",
    "            temp1=sm.families.links.Log()\n",
    "        elif l==\"identity\":\n",
    "            temp1=sm.families.links.identity()\n",
    "        elif l==\"sqrt\":\n",
    "            temp1=sm.families.links.sqrt()\n",
    "    if exog_precision is None:\n",
    "        mod = BetaModel(endog, exog, exog_precision, link=temp, link_precision=temp1)\n",
    "        rslt = mod.fit()\n",
    "    else:\n",
    "        data = pd.concat([endog, exog], axis=1)\n",
    "        Z = patsy.dmatrix('~ exog_precision', data, return_type='dataframe')\n",
    "        mod = BetaModel.from_formula(endog.columns[0]+\"~\"+\"+\".join(exog.columns), data=data,exog_precision=Z, link=temp, link_precision=temp1)\n",
    "        rslt = mod.fit()\n",
    "    return rslt.summary()"
   ]
  },
  {
   "cell_type": "code",
   "execution_count": 50,
   "id": "bce85ed8",
   "metadata": {
    "ExecuteTime": {
     "end_time": "2023-05-04T16:12:27.917771Z",
     "start_time": "2023-05-04T16:12:27.903308Z"
    }
   },
   "outputs": [],
   "source": [
    "#Generic function \n",
    "link=[\"Logit\",\"probit\",\"clogLog\"]\n",
    "link_precision=[\"Log\",\"identity\",\"sqrt\"]\n",
    "def betaRegression(endog,exog,link,link_precision):\n",
    "    temp=None\n",
    "    temp1=None\n",
    "    for k in link:\n",
    "        if k == \"Logit\":\n",
    "            temp=sm.families.links.Logit()\n",
    "        elif k==\"probit\":\n",
    "            temp=sm.families.links.probit()\n",
    "        elif k==\"clogLog\":\n",
    "            temp=sm.families.links.clogLog()\n",
    "    for l in link_precision:\n",
    "        if l==\"Log\":\n",
    "            temp1=sm.families.links.Log()\n",
    "        elif l==\"identity\":\n",
    "            temp1=sm.families.links.identity()\n",
    "        elif l==\"sqrt\":\n",
    "            temp1=sm.families.links.sqrt()\n",
    "    mod = BetaModel(endog,exog,link=temp,link_precision=temp1)\n",
    "    rslt = mod.fit()\n",
    "    return rslt.summary()"
   ]
  },
  {
   "cell_type": "code",
   "execution_count": 53,
   "id": "34cd3a43",
   "metadata": {
    "ExecuteTime": {
     "end_time": "2023-05-04T16:14:01.999577Z",
     "start_time": "2023-05-04T16:14:01.987629Z"
    }
   },
   "outputs": [],
   "source": [
    "x=data[['income','persons']]\n",
    "y=data[['y']]\n",
    "link=[\"probit\"]\n",
    "link_precision=[\"sqrt\"]\n",
    "betaRegression(y,x,link,link_precision)"
   ]
  },
  {
   "cell_type": "code",
   "execution_count": 98,
   "id": "cab36fb3",
   "metadata": {
    "ExecuteTime": {
     "end_time": "2023-05-04T17:22:51.714415Z",
     "start_time": "2023-05-04T17:22:51.687013Z"
    }
   },
   "outputs": [],
   "source": [
    "link=[\"Logit\",\"probit\",\"clogLog\"]\n",
    "link_precision=[\"Log\",\"identity\",\"sqrt\"]\n",
    "def betaRegression(endog,exog,link,link_precision):\n",
    "    temp=0\n",
    "    temp1=0\n",
    "    for k in link:\n",
    "        if k == \"Logit\":\n",
    "            temp=statsmodels.genmod.families.links.Logit()\n",
    "        elif k==\"probit\":\n",
    "            temp=statsmodels.genmod.families.links.probit()\n",
    "        elif k==\"clogLog\":\n",
    "            temp=statsmodels.genmod.families.links.clogLog()\n",
    "    for l in link_precision:\n",
    "        if l==\"Log\":\n",
    "            temp1=statsmodels.genmod.families.links.Log()\n",
    "        elif l==\"identity\":\n",
    "            temp1=statsmodels.genmod.families.links.identity()\n",
    "        elif l==\"sqrt\":\n",
    "            temp1=statsmodels.genmod.families.links.sqrt()\n",
    "    mod = BetaModel(endog,exog,link=temp,link_precision=temp1)\n",
    "    rslt = mod.fit()\n",
    "    return rslt.summary()\n",
    "    "
   ]
  },
  {
   "cell_type": "code",
   "execution_count": 93,
   "id": "a62f5825",
   "metadata": {
    "ExecuteTime": {
     "end_time": "2023-05-04T17:15:25.503107Z",
     "start_time": "2023-05-04T17:15:25.446507Z"
    }
   },
   "outputs": [],
   "source": [
    "x=data[['income','persons']]\n",
    "y=data[['y']]\n",
    "link=[\"probit\"]\n",
    "link_precision=[\"sqrt\"]"
   ]
  },
  {
   "cell_type": "code",
   "execution_count": 94,
   "id": "19c0a08a",
   "metadata": {
    "ExecuteTime": {
     "end_time": "2023-05-04T17:15:43.291094Z",
     "start_time": "2023-05-04T17:15:42.893907Z"
    },
    "scrolled": false
   },
   "outputs": [
    {
     "name": "stderr",
     "output_type": "stream",
     "text": [
      "C:\\Users\\harsh\\AppData\\Roaming\\Python\\Python39\\site-packages\\statsmodels\\base\\model.py:2694: UserWarning: df_model + k_constant differs from nparams\n",
      "  warnings.warn(\"df_model + k_constant differs from nparams\")\n"
     ]
    },
    {
     "data": {
      "text/html": [
       "<table class=\"simpletable\">\n",
       "<caption>BetaModel Results</caption>\n",
       "<tr>\n",
       "  <th>Dep. Variable:</th>             <td>y</td>         <th>  Log-Likelihood:    </th> <td>  41.287</td>\n",
       "</tr>\n",
       "<tr>\n",
       "  <th>Model:</th>                 <td>BetaModel</td>     <th>  AIC:               </th> <td>  -78.57</td>\n",
       "</tr>\n",
       "<tr>\n",
       "  <th>Method:</th>           <td>Maximum Likelihood</td> <th>  BIC:               </th> <td>  -75.30</td>\n",
       "</tr>\n",
       "<tr>\n",
       "  <th>Date:</th>              <td>Thu, 04 May 2023</td>  <th>                     </th>     <td> </td>   \n",
       "</tr>\n",
       "<tr>\n",
       "  <th>Time:</th>                  <td>22:45:43</td>      <th>                     </th>     <td> </td>   \n",
       "</tr>\n",
       "<tr>\n",
       "  <th>No. Observations:</th>       <td>    38</td>       <th>                     </th>     <td> </td>   \n",
       "</tr>\n",
       "<tr>\n",
       "  <th>Df Residuals:</th>           <td>    35</td>       <th>                     </th>     <td> </td>   \n",
       "</tr>\n",
       "<tr>\n",
       "  <th>Df Model:</th>               <td>     2</td>       <th>                     </th>     <td> </td>   \n",
       "</tr>\n",
       "</table>\n",
       "<table class=\"simpletable\">\n",
       "<tr>\n",
       "      <td></td>         <th>coef</th>     <th>std err</th>      <th>z</th>      <th>P>|z|</th>  <th>[0.025</th>    <th>0.975]</th>  \n",
       "</tr>\n",
       "<tr>\n",
       "  <th>income</th>    <td>   -0.0113</td> <td>    0.001</td> <td>   -8.618</td> <td> 0.000</td> <td>   -0.014</td> <td>   -0.009</td>\n",
       "</tr>\n",
       "<tr>\n",
       "  <th>persons</th>   <td>    0.0340</td> <td>    0.019</td> <td>    1.748</td> <td> 0.080</td> <td>   -0.004</td> <td>    0.072</td>\n",
       "</tr>\n",
       "<tr>\n",
       "  <th>precision</th> <td>    5.3669</td> <td>    0.608</td> <td>    8.833</td> <td> 0.000</td> <td>    4.176</td> <td>    6.558</td>\n",
       "</tr>\n",
       "</table>"
      ],
      "text/plain": [
       "<class 'statsmodels.iolib.summary.Summary'>\n",
       "\"\"\"\n",
       "                              BetaModel Results                               \n",
       "==============================================================================\n",
       "Dep. Variable:                      y   Log-Likelihood:                 41.287\n",
       "Model:                      BetaModel   AIC:                            -78.57\n",
       "Method:            Maximum Likelihood   BIC:                            -75.30\n",
       "Date:                Thu, 04 May 2023                                         \n",
       "Time:                        22:45:43                                         \n",
       "No. Observations:                  38                                         \n",
       "Df Residuals:                      35                                         \n",
       "Df Model:                           2                                         \n",
       "==============================================================================\n",
       "                 coef    std err          z      P>|z|      [0.025      0.975]\n",
       "------------------------------------------------------------------------------\n",
       "income        -0.0113      0.001     -8.618      0.000      -0.014      -0.009\n",
       "persons        0.0340      0.019      1.748      0.080      -0.004       0.072\n",
       "precision      5.3669      0.608      8.833      0.000       4.176       6.558\n",
       "==============================================================================\n",
       "\"\"\""
      ]
     },
     "execution_count": 94,
     "metadata": {},
     "output_type": "execute_result"
    }
   ],
   "source": [
    "betaRegression(y,x,link,link_precision)"
   ]
  },
  {
   "cell_type": "code",
   "execution_count": 40,
   "id": "0e50a2b9",
   "metadata": {
    "ExecuteTime": {
     "end_time": "2023-05-04T16:03:17.435634Z",
     "start_time": "2023-05-04T16:03:17.408105Z"
    }
   },
   "outputs": [],
   "source": [
    "x=data[['income','persons']]\n",
    "y=data[['y']]\n",
    "mod = BetaModel(y,x)\n",
    "rslt = mod.fit()\n",
    "print(rslt.summary())"
   ]
  },
  {
   "cell_type": "code",
   "execution_count": 152,
   "id": "da259b13",
   "metadata": {
    "ExecuteTime": {
     "end_time": "2023-05-04T14:33:45.401639Z",
     "start_time": "2023-05-04T14:33:45.172664Z"
    }
   },
   "outputs": [],
   "source": [
    "data=pd.read_csv(r\"C:\\Users\\harsh\\Downloads\\dataTS.csv\")"
   ]
  },
  {
   "cell_type": "code",
   "execution_count": 153,
   "id": "ab1735c3",
   "metadata": {
    "ExecuteTime": {
     "end_time": "2023-05-04T14:33:46.009071Z",
     "start_time": "2023-05-04T14:33:45.955398Z"
    },
    "scrolled": true
   },
   "outputs": [
    {
     "data": {
      "text/html": [
       "<div>\n",
       "<style scoped>\n",
       "    .dataframe tbody tr th:only-of-type {\n",
       "        vertical-align: middle;\n",
       "    }\n",
       "\n",
       "    .dataframe tbody tr th {\n",
       "        vertical-align: top;\n",
       "    }\n",
       "\n",
       "    .dataframe thead th {\n",
       "        text-align: right;\n",
       "    }\n",
       "</style>\n",
       "<table border=\"1\" class=\"dataframe\">\n",
       "  <thead>\n",
       "    <tr style=\"text-align: right;\">\n",
       "      <th></th>\n",
       "      <th>iyield</th>\n",
       "      <th>gravity</th>\n",
       "      <th>pressure</th>\n",
       "      <th>temp10</th>\n",
       "      <th>temp</th>\n",
       "      <th>batch</th>\n",
       "    </tr>\n",
       "  </thead>\n",
       "  <tbody>\n",
       "    <tr>\n",
       "      <th>0</th>\n",
       "      <td>0.122</td>\n",
       "      <td>50.8</td>\n",
       "      <td>8.6</td>\n",
       "      <td>190</td>\n",
       "      <td>205</td>\n",
       "      <td>1</td>\n",
       "    </tr>\n",
       "    <tr>\n",
       "      <th>1</th>\n",
       "      <td>0.223</td>\n",
       "      <td>50.8</td>\n",
       "      <td>8.6</td>\n",
       "      <td>190</td>\n",
       "      <td>275</td>\n",
       "      <td>1</td>\n",
       "    </tr>\n",
       "    <tr>\n",
       "      <th>2</th>\n",
       "      <td>0.347</td>\n",
       "      <td>50.8</td>\n",
       "      <td>8.6</td>\n",
       "      <td>190</td>\n",
       "      <td>345</td>\n",
       "      <td>1</td>\n",
       "    </tr>\n",
       "    <tr>\n",
       "      <th>3</th>\n",
       "      <td>0.457</td>\n",
       "      <td>50.8</td>\n",
       "      <td>8.6</td>\n",
       "      <td>190</td>\n",
       "      <td>407</td>\n",
       "      <td>1</td>\n",
       "    </tr>\n",
       "    <tr>\n",
       "      <th>4</th>\n",
       "      <td>0.080</td>\n",
       "      <td>40.8</td>\n",
       "      <td>3.5</td>\n",
       "      <td>210</td>\n",
       "      <td>218</td>\n",
       "      <td>2</td>\n",
       "    </tr>\n",
       "  </tbody>\n",
       "</table>\n",
       "</div>"
      ],
      "text/plain": [
       "   iyield  gravity  pressure  temp10  temp  batch\n",
       "0   0.122     50.8       8.6     190   205      1\n",
       "1   0.223     50.8       8.6     190   275      1\n",
       "2   0.347     50.8       8.6     190   345      1\n",
       "3   0.457     50.8       8.6     190   407      1\n",
       "4   0.080     40.8       3.5     210   218      2"
      ]
     },
     "execution_count": 153,
     "metadata": {},
     "output_type": "execute_result"
    }
   ],
   "source": [
    "data.head()"
   ]
  },
  {
   "cell_type": "code",
   "execution_count": 154,
   "id": "3e4f0ff0",
   "metadata": {
    "ExecuteTime": {
     "end_time": "2023-05-04T14:33:47.365325Z",
     "start_time": "2023-05-04T14:33:47.049809Z"
    }
   },
   "outputs": [
    {
     "name": "stdout",
     "output_type": "stream",
     "text": [
      "                              BetaModel Results                               \n",
      "==============================================================================\n",
      "Dep. Variable:                 iyield   Log-Likelihood:                 86.165\n",
      "Model:                      BetaModel   AIC:                            -146.3\n",
      "Method:            Maximum Likelihood   BIC:                            -127.3\n",
      "Date:                Thu, 04 May 2023                                         \n",
      "Time:                        20:03:47                                         \n",
      "No. Observations:                  32                                         \n",
      "Df Residuals:                      19                                         \n",
      "Df Model:                          12                                         \n",
      "================================================================================================\n",
      "                                   coef    std err          z      P>|z|      [0.025      0.975]\n",
      "------------------------------------------------------------------------------------------------\n",
      "Intercept                       -6.0601      0.185    -32.804      0.000      -6.422      -5.698\n",
      "C(batch, Treatment(10))[T.1]     1.6561      0.085     19.497      0.000       1.490       1.823\n",
      "C(batch, Treatment(10))[T.2]     1.3106      0.105     12.489      0.000       1.105       1.516\n",
      "C(batch, Treatment(10))[T.3]     1.5861      0.104     15.256      0.000       1.382       1.790\n",
      "C(batch, Treatment(10))[T.4]     1.0477      0.082     12.759      0.000       0.887       1.209\n",
      "C(batch, Treatment(10))[T.5]     1.1410      0.083     13.806      0.000       0.979       1.303\n",
      "C(batch, Treatment(10))[T.6]     1.0309      0.085     12.131      0.000       0.864       1.197\n",
      "C(batch, Treatment(10))[T.7]     0.5889      0.088      6.711      0.000       0.417       0.761\n",
      "C(batch, Treatment(10))[T.8]     0.5300      0.084      6.274      0.000       0.364       0.696\n",
      "C(batch, Treatment(10))[T.9]     0.3747      0.092      4.069      0.000       0.194       0.555\n",
      "temp                             0.0107      0.000     24.594      0.000       0.010       0.012\n",
      "precision-Intercept           -531.6758    416.912     -1.275      0.202   -1348.808     285.456\n",
      "precision-temp                   3.2072      1.571      2.042      0.041       0.129       6.285\n",
      "================================================================================================\n"
     ]
    }
   ],
   "source": [
    "#We can also specify a formula and a specific structure and use the identity-link for precision.\n",
    "Z = patsy.dmatrix('~ temp', data, return_type='dataframe')\n",
    "mod = BetaModel.from_formula('iyield ~ C(batch, Treatment(10)) + temp',\n",
    "                             data, exog_precision=Z,\n",
    "                             link_precision=identity())\n",
    "rslt1 = mod.fit()\n",
    "print(rslt1.summary())"
   ]
  },
  {
   "cell_type": "code",
   "execution_count": 155,
   "id": "68720f13",
   "metadata": {
    "ExecuteTime": {
     "end_time": "2023-05-04T14:33:55.581105Z",
     "start_time": "2023-05-04T14:33:55.548890Z"
    }
   },
   "outputs": [
    {
     "data": {
      "text/html": [
       "<div>\n",
       "<style scoped>\n",
       "    .dataframe tbody tr th:only-of-type {\n",
       "        vertical-align: middle;\n",
       "    }\n",
       "\n",
       "    .dataframe tbody tr th {\n",
       "        vertical-align: top;\n",
       "    }\n",
       "\n",
       "    .dataframe thead th {\n",
       "        text-align: right;\n",
       "    }\n",
       "</style>\n",
       "<table border=\"1\" class=\"dataframe\">\n",
       "  <thead>\n",
       "    <tr style=\"text-align: right;\">\n",
       "      <th></th>\n",
       "      <th>Intercept</th>\n",
       "      <th>temp</th>\n",
       "    </tr>\n",
       "  </thead>\n",
       "  <tbody>\n",
       "    <tr>\n",
       "      <th>0</th>\n",
       "      <td>1.0</td>\n",
       "      <td>205.0</td>\n",
       "    </tr>\n",
       "    <tr>\n",
       "      <th>1</th>\n",
       "      <td>1.0</td>\n",
       "      <td>275.0</td>\n",
       "    </tr>\n",
       "    <tr>\n",
       "      <th>2</th>\n",
       "      <td>1.0</td>\n",
       "      <td>345.0</td>\n",
       "    </tr>\n",
       "    <tr>\n",
       "      <th>3</th>\n",
       "      <td>1.0</td>\n",
       "      <td>407.0</td>\n",
       "    </tr>\n",
       "    <tr>\n",
       "      <th>4</th>\n",
       "      <td>1.0</td>\n",
       "      <td>218.0</td>\n",
       "    </tr>\n",
       "    <tr>\n",
       "      <th>5</th>\n",
       "      <td>1.0</td>\n",
       "      <td>273.0</td>\n",
       "    </tr>\n",
       "    <tr>\n",
       "      <th>6</th>\n",
       "      <td>1.0</td>\n",
       "      <td>347.0</td>\n",
       "    </tr>\n",
       "    <tr>\n",
       "      <th>7</th>\n",
       "      <td>1.0</td>\n",
       "      <td>212.0</td>\n",
       "    </tr>\n",
       "    <tr>\n",
       "      <th>8</th>\n",
       "      <td>1.0</td>\n",
       "      <td>272.0</td>\n",
       "    </tr>\n",
       "    <tr>\n",
       "      <th>9</th>\n",
       "      <td>1.0</td>\n",
       "      <td>340.0</td>\n",
       "    </tr>\n",
       "    <tr>\n",
       "      <th>10</th>\n",
       "      <td>1.0</td>\n",
       "      <td>235.0</td>\n",
       "    </tr>\n",
       "    <tr>\n",
       "      <th>11</th>\n",
       "      <td>1.0</td>\n",
       "      <td>300.0</td>\n",
       "    </tr>\n",
       "    <tr>\n",
       "      <th>12</th>\n",
       "      <td>1.0</td>\n",
       "      <td>365.0</td>\n",
       "    </tr>\n",
       "    <tr>\n",
       "      <th>13</th>\n",
       "      <td>1.0</td>\n",
       "      <td>410.0</td>\n",
       "    </tr>\n",
       "    <tr>\n",
       "      <th>14</th>\n",
       "      <td>1.0</td>\n",
       "      <td>307.0</td>\n",
       "    </tr>\n",
       "    <tr>\n",
       "      <th>15</th>\n",
       "      <td>1.0</td>\n",
       "      <td>367.0</td>\n",
       "    </tr>\n",
       "    <tr>\n",
       "      <th>16</th>\n",
       "      <td>1.0</td>\n",
       "      <td>395.0</td>\n",
       "    </tr>\n",
       "    <tr>\n",
       "      <th>17</th>\n",
       "      <td>1.0</td>\n",
       "      <td>267.0</td>\n",
       "    </tr>\n",
       "    <tr>\n",
       "      <th>18</th>\n",
       "      <td>1.0</td>\n",
       "      <td>360.0</td>\n",
       "    </tr>\n",
       "    <tr>\n",
       "      <th>19</th>\n",
       "      <td>1.0</td>\n",
       "      <td>402.0</td>\n",
       "    </tr>\n",
       "    <tr>\n",
       "      <th>20</th>\n",
       "      <td>1.0</td>\n",
       "      <td>235.0</td>\n",
       "    </tr>\n",
       "    <tr>\n",
       "      <th>21</th>\n",
       "      <td>1.0</td>\n",
       "      <td>275.0</td>\n",
       "    </tr>\n",
       "    <tr>\n",
       "      <th>22</th>\n",
       "      <td>1.0</td>\n",
       "      <td>358.0</td>\n",
       "    </tr>\n",
       "    <tr>\n",
       "      <th>23</th>\n",
       "      <td>1.0</td>\n",
       "      <td>416.0</td>\n",
       "    </tr>\n",
       "    <tr>\n",
       "      <th>24</th>\n",
       "      <td>1.0</td>\n",
       "      <td>285.0</td>\n",
       "    </tr>\n",
       "    <tr>\n",
       "      <th>25</th>\n",
       "      <td>1.0</td>\n",
       "      <td>365.0</td>\n",
       "    </tr>\n",
       "    <tr>\n",
       "      <th>26</th>\n",
       "      <td>1.0</td>\n",
       "      <td>444.0</td>\n",
       "    </tr>\n",
       "    <tr>\n",
       "      <th>27</th>\n",
       "      <td>1.0</td>\n",
       "      <td>351.0</td>\n",
       "    </tr>\n",
       "    <tr>\n",
       "      <th>28</th>\n",
       "      <td>1.0</td>\n",
       "      <td>424.0</td>\n",
       "    </tr>\n",
       "    <tr>\n",
       "      <th>29</th>\n",
       "      <td>1.0</td>\n",
       "      <td>365.0</td>\n",
       "    </tr>\n",
       "    <tr>\n",
       "      <th>30</th>\n",
       "      <td>1.0</td>\n",
       "      <td>379.0</td>\n",
       "    </tr>\n",
       "    <tr>\n",
       "      <th>31</th>\n",
       "      <td>1.0</td>\n",
       "      <td>428.0</td>\n",
       "    </tr>\n",
       "  </tbody>\n",
       "</table>\n",
       "</div>"
      ],
      "text/plain": [
       "    Intercept   temp\n",
       "0         1.0  205.0\n",
       "1         1.0  275.0\n",
       "2         1.0  345.0\n",
       "3         1.0  407.0\n",
       "4         1.0  218.0\n",
       "5         1.0  273.0\n",
       "6         1.0  347.0\n",
       "7         1.0  212.0\n",
       "8         1.0  272.0\n",
       "9         1.0  340.0\n",
       "10        1.0  235.0\n",
       "11        1.0  300.0\n",
       "12        1.0  365.0\n",
       "13        1.0  410.0\n",
       "14        1.0  307.0\n",
       "15        1.0  367.0\n",
       "16        1.0  395.0\n",
       "17        1.0  267.0\n",
       "18        1.0  360.0\n",
       "19        1.0  402.0\n",
       "20        1.0  235.0\n",
       "21        1.0  275.0\n",
       "22        1.0  358.0\n",
       "23        1.0  416.0\n",
       "24        1.0  285.0\n",
       "25        1.0  365.0\n",
       "26        1.0  444.0\n",
       "27        1.0  351.0\n",
       "28        1.0  424.0\n",
       "29        1.0  365.0\n",
       "30        1.0  379.0\n",
       "31        1.0  428.0"
      ]
     },
     "execution_count": 155,
     "metadata": {},
     "output_type": "execute_result"
    }
   ],
   "source": [
    "Z"
   ]
  },
  {
   "cell_type": "code",
   "execution_count": 122,
   "id": "10368685",
   "metadata": {
    "ExecuteTime": {
     "end_time": "2023-05-04T14:05:11.329074Z",
     "start_time": "2023-05-04T14:05:10.960751Z"
    }
   },
   "outputs": [
    {
     "name": "stdout",
     "output_type": "stream",
     "text": [
      "                              BetaModel Results                               \n",
      "==============================================================================\n",
      "Dep. Variable:                 iyield   Log-Likelihood:                 86.411\n",
      "Model:                      BetaModel   AIC:                            -146.8\n",
      "Method:            Maximum Likelihood   BIC:                            -127.8\n",
      "Date:                Thu, 04 May 2023                                         \n",
      "Time:                        19:35:11                                         \n",
      "No. Observations:                  32                                         \n",
      "Df Residuals:                      19                                         \n",
      "Df Model:                          12                                         \n",
      "================================================================================================\n",
      "                                   coef    std err          z      P>|z|      [0.025      0.975]\n",
      "------------------------------------------------------------------------------------------------\n",
      "Intercept                       -6.0182      0.193    -31.118      0.000      -6.397      -5.639\n",
      "C(batch, Treatment(10))[T.1]     1.6382      0.082     20.077      0.000       1.478       1.798\n",
      "C(batch, Treatment(10))[T.2]     1.3062      0.103     12.710      0.000       1.105       1.508\n",
      "C(batch, Treatment(10))[T.3]     1.5793      0.102     15.509      0.000       1.380       1.779\n",
      "C(batch, Treatment(10))[T.4]     1.0420      0.077     13.566      0.000       0.891       1.193\n",
      "C(batch, Treatment(10))[T.5]     1.1443      0.077     14.773      0.000       0.992       1.296\n",
      "C(batch, Treatment(10))[T.6]     1.0272      0.080     12.915      0.000       0.871       1.183\n",
      "C(batch, Treatment(10))[T.7]     0.5995      0.082      7.295      0.000       0.438       0.761\n",
      "C(batch, Treatment(10))[T.8]     0.5413      0.078      6.914      0.000       0.388       0.695\n",
      "C(batch, Treatment(10))[T.9]     0.3698      0.085      4.358      0.000       0.204       0.536\n",
      "temp                             0.0106      0.000     23.012      0.000       0.010       0.012\n",
      "precision-Intercept             -9.6975     13.695     -0.708      0.479     -36.540      17.145\n",
      "precision-temp                   0.0986      0.046      2.153      0.031       0.009       0.188\n",
      "================================================================================================\n"
     ]
    }
   ],
   "source": [
    "Z = patsy.dmatrix('~ temp', data, return_type='dataframe')\n",
    "mod = BetaModel.from_formula('iyield ~ C(batch, Treatment(10)) + temp',\n",
    "                             data, exog_precision=Z,\n",
    "                             link_precision=statsmodels.genmod.families.links.sqrt())\n",
    "rslt1 = mod.fit()\n",
    "print(rslt1.summary())"
   ]
  },
  {
   "cell_type": "code",
   "execution_count": 68,
   "id": "7f2ae17b",
   "metadata": {
    "ExecuteTime": {
     "end_time": "2023-05-04T08:48:26.136402Z",
     "start_time": "2023-05-04T08:48:25.862232Z"
    }
   },
   "outputs": [],
   "source": [
    "df=pd.read_csv(r\"C:\\Users\\harsh\\Downloads\\methylation.csv\")"
   ]
  },
  {
   "cell_type": "code",
   "execution_count": 69,
   "id": "019a6a34",
   "metadata": {
    "ExecuteTime": {
     "end_time": "2023-05-04T08:48:33.177148Z",
     "start_time": "2023-05-04T08:48:33.132710Z"
    }
   },
   "outputs": [
    {
     "data": {
      "text/html": [
       "<div>\n",
       "<style scoped>\n",
       "    .dataframe tbody tr th:only-of-type {\n",
       "        vertical-align: middle;\n",
       "    }\n",
       "\n",
       "    .dataframe tbody tr th {\n",
       "        vertical-align: top;\n",
       "    }\n",
       "\n",
       "    .dataframe thead th {\n",
       "        text-align: right;\n",
       "    }\n",
       "</style>\n",
       "<table border=\"1\" class=\"dataframe\">\n",
       "  <thead>\n",
       "    <tr style=\"text-align: right;\">\n",
       "      <th></th>\n",
       "      <th>Unnamed: 0.1</th>\n",
       "      <th>Unnamed: 0</th>\n",
       "      <th>gender</th>\n",
       "      <th>age</th>\n",
       "      <th>Basename</th>\n",
       "      <th>ID</th>\n",
       "      <th>id</th>\n",
       "      <th>plate</th>\n",
       "      <th>CpG</th>\n",
       "      <th>methylation</th>\n",
       "    </tr>\n",
       "  </thead>\n",
       "  <tbody>\n",
       "    <tr>\n",
       "      <th>0</th>\n",
       "      <td>0</td>\n",
       "      <td>0</td>\n",
       "      <td>F</td>\n",
       "      <td>58.231</td>\n",
       "      <td>6042324088_R04C01</td>\n",
       "      <td>age58.231_F</td>\n",
       "      <td>id_0</td>\n",
       "      <td>6042324088</td>\n",
       "      <td>CpG_0</td>\n",
       "      <td>0.815</td>\n",
       "    </tr>\n",
       "    <tr>\n",
       "      <th>1</th>\n",
       "      <td>1</td>\n",
       "      <td>1</td>\n",
       "      <td>M</td>\n",
       "      <td>52.632</td>\n",
       "      <td>6042324088_R06C01</td>\n",
       "      <td>age52.632_M</td>\n",
       "      <td>id_1</td>\n",
       "      <td>6042324088</td>\n",
       "      <td>CpG_0</td>\n",
       "      <td>0.803</td>\n",
       "    </tr>\n",
       "    <tr>\n",
       "      <th>2</th>\n",
       "      <td>2</td>\n",
       "      <td>2</td>\n",
       "      <td>M</td>\n",
       "      <td>64.679</td>\n",
       "      <td>6042324088_R01C01</td>\n",
       "      <td>age64.679_M</td>\n",
       "      <td>id_2</td>\n",
       "      <td>6042324088</td>\n",
       "      <td>CpG_0</td>\n",
       "      <td>0.803</td>\n",
       "    </tr>\n",
       "    <tr>\n",
       "      <th>3</th>\n",
       "      <td>3</td>\n",
       "      <td>3</td>\n",
       "      <td>F</td>\n",
       "      <td>55.299</td>\n",
       "      <td>6042324088_R04C02</td>\n",
       "      <td>age55.299_F</td>\n",
       "      <td>id_3</td>\n",
       "      <td>6042324088</td>\n",
       "      <td>CpG_0</td>\n",
       "      <td>0.808</td>\n",
       "    </tr>\n",
       "    <tr>\n",
       "      <th>4</th>\n",
       "      <td>4</td>\n",
       "      <td>4</td>\n",
       "      <td>M</td>\n",
       "      <td>56.019</td>\n",
       "      <td>6042324088_R02C01</td>\n",
       "      <td>age56.019_M</td>\n",
       "      <td>id_4</td>\n",
       "      <td>6042324088</td>\n",
       "      <td>CpG_0</td>\n",
       "      <td>0.855</td>\n",
       "    </tr>\n",
       "  </tbody>\n",
       "</table>\n",
       "</div>"
      ],
      "text/plain": [
       "   Unnamed: 0.1  Unnamed: 0 gender     age           Basename           ID  \\\n",
       "0             0           0      F  58.231  6042324088_R04C01  age58.231_F   \n",
       "1             1           1      M  52.632  6042324088_R06C01  age52.632_M   \n",
       "2             2           2      M  64.679  6042324088_R01C01  age64.679_M   \n",
       "3             3           3      F  55.299  6042324088_R04C02  age55.299_F   \n",
       "4             4           4      M  56.019  6042324088_R02C01  age56.019_M   \n",
       "\n",
       "     id       plate    CpG  methylation  \n",
       "0  id_0  6042324088  CpG_0        0.815  \n",
       "1  id_1  6042324088  CpG_0        0.803  \n",
       "2  id_2  6042324088  CpG_0        0.803  \n",
       "3  id_3  6042324088  CpG_0        0.808  \n",
       "4  id_4  6042324088  CpG_0        0.855  "
      ]
     },
     "execution_count": 69,
     "metadata": {},
     "output_type": "execute_result"
    }
   ],
   "source": [
    "df.head()"
   ]
  },
  {
   "cell_type": "markdown",
   "id": "3e0ccd0e",
   "metadata": {},
   "source": [
    "In the case of proportion-data, we may think that the precision depends on the number of measurements. E.g for sequence data, on the number of sequence reads covering a site:"
   ]
  },
  {
   "cell_type": "code",
   "execution_count": 75,
   "id": "b9d2be7e",
   "metadata": {
    "ExecuteTime": {
     "end_time": "2023-05-04T08:54:47.899729Z",
     "start_time": "2023-05-04T08:54:47.588921Z"
    }
   },
   "outputs": [
    {
     "name": "stdout",
     "output_type": "stream",
     "text": [
      "                              BetaModel Results                               \n",
      "==============================================================================\n",
      "Dep. Variable:            methylation   Log-Likelihood:                 104.26\n",
      "Model:                      BetaModel   AIC:                            -194.5\n",
      "Method:            Maximum Likelihood   BIC:                            -183.4\n",
      "Date:                Thu, 04 May 2023                                         \n",
      "Time:                        14:24:47                                         \n",
      "No. Observations:                  36                                         \n",
      "Df Residuals:                      29                                         \n",
      "Df Model:                           6                                         \n",
      "================================================================================\n",
      "                   coef    std err          z      P>|z|      [0.025      0.975]\n",
      "--------------------------------------------------------------------------------\n",
      "Intercept        1.5104      0.151      9.990      0.000       1.214       1.807\n",
      "CpG[T.CpG_1]     0.6070      0.049     12.409      0.000       0.511       0.703\n",
      "CpG[T.CpG_2]     0.9739      0.053     18.272      0.000       0.869       1.078\n",
      "gender[T.M]      0.0801      0.049      1.644      0.100      -0.015       0.176\n",
      "age             -0.0014      0.003     -0.464      0.643      -0.007       0.004\n",
      "precision-1      8.2209      1.863      4.412      0.000       4.569      11.873\n",
      "precision-2     -0.0345      0.034     -1.011      0.312      -0.101       0.032\n",
      "================================================================================\n"
     ]
    }
   ],
   "source": [
    "Z = patsy.dmatrix('~ age', df)\n",
    "formula = 'methylation ~ CpG + age + gender '\n",
    "mod = BetaModel.from_formula(formula, df, Z)\n",
    "rslt3 = mod.fit()\n",
    "print(rslt3.summary())"
   ]
  }
 ],
 "metadata": {
  "kernelspec": {
   "display_name": "Python 3 (ipykernel)",
   "language": "python",
   "name": "python3"
  },
  "language_info": {
   "codemirror_mode": {
    "name": "ipython",
    "version": 3
   },
   "file_extension": ".py",
   "mimetype": "text/x-python",
   "name": "python",
   "nbconvert_exporter": "python",
   "pygments_lexer": "ipython3",
   "version": "3.9.12"
  },
  "toc": {
   "base_numbering": 1,
   "nav_menu": {},
   "number_sections": true,
   "sideBar": true,
   "skip_h1_title": false,
   "title_cell": "Table of Contents",
   "title_sidebar": "Contents",
   "toc_cell": false,
   "toc_position": {},
   "toc_section_display": true,
   "toc_window_display": false
  },
  "varInspector": {
   "cols": {
    "lenName": 16,
    "lenType": 16,
    "lenVar": 40
   },
   "kernels_config": {
    "python": {
     "delete_cmd_postfix": "",
     "delete_cmd_prefix": "del ",
     "library": "var_list.py",
     "varRefreshCmd": "print(var_dic_list())"
    },
    "r": {
     "delete_cmd_postfix": ") ",
     "delete_cmd_prefix": "rm(",
     "library": "var_list.r",
     "varRefreshCmd": "cat(var_dic_list()) "
    }
   },
   "types_to_exclude": [
    "module",
    "function",
    "builtin_function_or_method",
    "instance",
    "_Feature"
   ],
   "window_display": false
  }
 },
 "nbformat": 4,
 "nbformat_minor": 5
}
